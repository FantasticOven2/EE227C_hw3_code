{
 "cells": [
  {
   "cell_type": "code",
   "execution_count": 139,
   "id": "511a2747",
   "metadata": {},
   "outputs": [],
   "source": [
    "import numpy as np\n",
    "import matplotlib.pyplot as plt"
   ]
  },
  {
   "cell_type": "code",
   "execution_count": 140,
   "id": "8acc3c8c",
   "metadata": {},
   "outputs": [],
   "source": [
    "def dual_norm(c, x):\n",
    "    h_inv = np.linalg.inv(hessian(x))\n",
    "    return np.sqrt(c.T @ h_inv @ c)\n",
    "\n",
    "def gradient(x):\n",
    "    t_1 = np.array([1 / (1 - x[i]) for i in range(20)])\n",
    "    t_2 = np.array([-1 / (1 + x[i]) for i in range(20)])\n",
    "    return t_1 + t_2\n",
    "\n",
    "def hessian(x):\n",
    "    t_1 = np.array([1 / (1 - x[i]) ** 2 for i in range(20)])\n",
    "    t_2 = np.array([1 / (1 + x[i]) ** 2 for i in range(20)])\n",
    "    return np.diag(t_1 + t_2)"
   ]
  },
  {
   "cell_type": "code",
   "execution_count": 141,
   "id": "6159bf94",
   "metadata": {},
   "outputs": [],
   "source": [
    "def cPath(eps, x0):\n",
    "    gamma = .1\n",
    "    x = x0\n",
    "    t, c = np.zeros((20,)), np.ones((20,))\n",
    "    res = []\n",
    "    for _ in range(10000):\n",
    "        t = t + gamma / dual_norm(c, x0)\n",
    "        x = x - np.linalg.inv(hessian(x)) @ (t * c + gradient(x)) / (1 + eps)\n",
    "#         lamb = dual_norm(t * c + gradient(x), x)\n",
    "#         eps = lamb ** 2 / (1 + lamb)\n",
    "        res.append(x @ c)\n",
    "    return res"
   ]
  },
  {
   "cell_type": "code",
   "execution_count": 142,
   "id": "f8622dc8",
   "metadata": {},
   "outputs": [],
   "source": [
    "res = cPath(0.00001, np.zeros((20,)))"
   ]
  },
  {
   "cell_type": "code",
   "execution_count": 143,
   "id": "8fae2274",
   "metadata": {},
   "outputs": [
    {
     "data": {
      "text/plain": [
       "[<matplotlib.lines.Line2D at 0x7fdca89ebb50>]"
      ]
     },
     "execution_count": 143,
     "metadata": {},
     "output_type": "execute_result"
    },
    {
     "data": {
      "image/png": "[encoded data removed]",
      "text/plain": [
       "<Figure size 432x288 with 1 Axes>"
      ]
     },
     "metadata": {
      "needs_background": "light"
     },
     "output_type": "display_data"
    }
   ],
   "source": [
    "plt.plot(np.arange(10000), res)"
   ]
  },
  {
   "cell_type": "code",
   "execution_count": null,
   "id": "b00f4ea3",
   "metadata": {},
   "outputs": [],
   "source": []
  },
  {
   "cell_type": "code",
   "execution_count": null,
   "id": "f8dd152b",
   "metadata": {},
   "outputs": [],
   "source": []
  }
 ],
 "metadata": {
  "kernelspec": {
   "display_name": "Python 3",
   "language": "python",
   "name": "python3"
  },
  "language_info": {
   "codemirror_mode": {
    "name": "ipython",
    "version": 3
   },
   "file_extension": ".py",
   "mimetype": "text/x-python",
   "name": "python",
   "nbconvert_exporter": "python",
   "pygments_lexer": "ipython3",
   "version": "3.8.8"
  }
 },
 "nbformat": 4,
 "nbformat_minor": 5
}
